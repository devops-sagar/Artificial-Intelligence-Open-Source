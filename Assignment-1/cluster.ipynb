def is_circle_collision(circle1, circle2, circle3):
   x1, y1, r1 = circle1
   x2, y2, r2 = circle2
   x3, y3, r3 = circle3
   
   distance = ((x1-x2)**2 + (y1-y2)**2)**0.5
   return distance <= r1 + r2

print(is_circle_collision([1,3,0.7], [2, 3, 0.4], [3,3,0.9]))

# print(is_circle_collision([0,0, 2], [0,0, 5]))