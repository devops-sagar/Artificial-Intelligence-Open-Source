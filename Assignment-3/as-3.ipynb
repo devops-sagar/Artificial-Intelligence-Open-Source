{
  "nbformat": 4,
  "nbformat_minor": 0,
  "metadata": {
    "colab": {
      "name": "Untitled2.ipynb",
      "provenance": [],
      "collapsed_sections": []
    },
    "kernelspec": {
      "name": "python3",
      "display_name": "Python 3"
    },
    "language_info": {
      "name": "python"
    }
  },
  "cells": [
    {
      "cell_type": "code",
      "source": [
        "# from google.colab import files\n",
        "# uploaded = files.upload()"
      ],
      "metadata": {
        "id": "PipW2ZfhoXXU"
      },
      "execution_count": 35,
      "outputs": []
    },
    {
      "cell_type": "code",
      "execution_count": 36,
      "metadata": {
        "colab": {
          "base_uri": "https://localhost:8080/"
        },
        "id": "Pyz9mcYHX4hF",
        "outputId": "b4fb673b-cabf-4253-b400-8b9f37186a20"
      },
      "outputs": [
        {
          "output_type": "stream",
          "name": "stdout",
          "text": [
            "   Target                                               data\n",
            "0    spam  WINNER As a valued network customer you have b...\n",
            "1    spam  If you had your mobile for more than an year y...\n",
            "2     ham                           I am gonna be home soon \n",
            "3    spam  SIX chances to win CASH From 100 to 20000 doll...\n",
            "4    spam  URGENT You have won a 1 week FREE membership i...\n",
            "5     ham  You have been wonderful and a blessing at all ...\n",
            "6    spam  XXXMobileMovieClub To use your credit click th...\n",
            "7     ham                            okay I am watching here\n",
            "8    spam  England vs Macedonia dont miss the team news T...\n",
            "9     ham          Is that seriously how you spell his name \n",
            "10    ham                  did you finish your lunch already\n",
            "11    ham       Alright no way I can meet up with you sooner\n",
            "12    ham  Just forced myself to eat a slice I am really ...\n",
            "13    ham                            Did you catch the train\n",
            "14    ham                        tell me anything about you.\n",
            "15   spam  Thanks for your subscription to Ringtone UK yo...\n",
            "16    ham          Hello How are you and how did saturday go\n",
            "17   spam  Rodger Burns MSG We tried to call you reply to...\n",
            "18   spam  Congrats one year special cinema pass for two ...\n",
            "19    ham                 Sorry I will call later in meeting\n",
            "20    ham                             Tell where you reached\n",
            "21    ham  Your gonna have to pick up a burger for yourse...\n",
            "22   spam  As a valued customer I am pleased to advise yo...\n",
            "23   spam  Urgent you are awarded a complimentary trip to...\n",
            "24    ham                       Finished class where are you\n",
            "25    ham                 where are you how did you perform \n",
            "26    ham                                you can call me now\n",
            "27    ham             I am waiting Call me once you are free\n",
            "28    ham                           I am on the way to homei\n",
            "29   spam  Please call our customer service representativ...\n"
          ]
        }
      ],
      "source": [
        "import pandas as pd\n",
        "\n",
        "df = pd.read_csv(\"ff.csv\")\n",
        "  \n",
        "print(df)"
      ]
    },
    {
      "cell_type": "code",
      "source": [
        "from collections import Counter\n",
        "words=[]\n",
        "# for data in df:\n",
        "#  f=open(e-mail,encoding='latin-1')\n",
        "#  blob=df.read(\"ff.csv\")\n",
        "df[\"data\"].to_string()\n",
        "# words+=df.split(\" \")\n",
        "word_dict=Counter(words)\n",
        "word_dict=word_dict.most_common(10)\n",
        "# print(word_dict)"
      ],
      "metadata": {
        "id": "E7LnasETrgzr"
      },
      "execution_count": 38,
      "outputs": []
    }
  ]
}